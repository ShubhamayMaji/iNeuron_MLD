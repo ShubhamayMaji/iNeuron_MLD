{
 "cells": [
  {
   "cell_type": "markdown",
   "metadata": {},
   "source": [
    "## 1.1 Write a Python Program(with class concepts) to find the area of the triangle using the below formula.\n",
    "## area = (s*(s-a)*(s-b)*(s-c)) ** 0.5\n",
    "## Function to take the length of the sides of triangle from user should be defined in the parent\n",
    "## class and function to calculate the area should be defined in subclass."
   ]
  },
  {
   "cell_type": "code",
   "execution_count": 57,
   "metadata": {},
   "outputs": [
    {
     "name": "stdout",
     "output_type": "stream",
     "text": [
      "a = 55\n",
      "b = 5\n",
      "c = 55\n",
      "Area of the triangle is : 137.35788109897445 'cube_unit'\n"
     ]
    }
   ],
   "source": [
    "class sides:\n",
    "    def __init__(self, a, b, c):\n",
    "        self.a = float(a)\n",
    "        self.b = float(b)\n",
    "        self.c = float(c)\n",
    "\n",
    "class triangle(sides):\n",
    "    def __init__(self, a, b, c):\n",
    "        sides.__init__(self, a, b, c)\n",
    "\n",
    "    def calculation_of_area(self):\n",
    "        s = (self.a + self.b + self.c) / 2\n",
    "        self.area = float((s * (s - self.a) * (s - self.b) * (s - self.c))) ** 0.5\n",
    "        \n",
    "\n",
    "    def get_the_area(self):\n",
    "        return self.area     \n",
    "\n",
    "a , b, c = input(\"a = \"), input(\"b = \"), input(\"c = \")\n",
    "\n",
    "t = triangle(a, b, c)\n",
    "t.calculation_of_area()\n",
    "print(\"Area of the triangle is : {} 'cube_unit'\".format(t.get_the_area()))\n"
   ]
  },
  {
   "cell_type": "markdown",
   "metadata": {},
   "source": [
    "## 1.2 Write a function filter_long_words() that takes a list of words and an integer n and returns the list of words that are longer than n.\n"
   ]
  },
  {
   "cell_type": "code",
   "execution_count": 13,
   "metadata": {},
   "outputs": [
    {
     "name": "stdout",
     "output_type": "stream",
     "text": [
      "Length of words to filter: 4\n",
      "List length: 5\n",
      "Type in words: my\n",
      "Type in words: name\n",
      "Type in words: is\n",
      "Type in words: Shubhamay\n",
      "Type in words: maji\n"
     ]
    },
    {
     "data": {
      "text/plain": [
       "['name', 'Shubhamay', 'maji']"
      ]
     },
     "execution_count": 13,
     "metadata": {},
     "output_type": "execute_result"
    }
   ],
   "source": [
    "def filter_long_words(l,n):\n",
    "    l1=[]\n",
    "    for i in l:\n",
    "        if len(i)>=n:\n",
    "            l1.append(i)\n",
    "    return l1\n",
    "\n",
    "n=int(input(\"Length of words to filter: \"))\n",
    "n1=int(input (\"List length: \"))\n",
    "l=[]\n",
    "for x in range(n1):\n",
    "    b=str(input(\"Type in words: \"))\n",
    "    l.append(b)\n",
    "filter_long_words(l,n)\n"
   ]
  },
  {
   "cell_type": "markdown",
   "metadata": {},
   "source": [
    "## 2.1 Write a Python program using function concept that maps list of words into a list of integers representing the lengths of the corresponding words.\n",
    "### Hint: If a list [ ab,cde,erty] is passed on to the python function output should come as [2,3,4] Here 2,3 and 4 are the lengths of the words in the list."
   ]
  },
  {
   "cell_type": "code",
   "execution_count": 36,
   "metadata": {},
   "outputs": [
    {
     "name": "stdout",
     "output_type": "stream",
     "text": [
      "List length: 3\n",
      "Type in words: ab\n",
      "Type in words: cde\n",
      "Type in words: erty\n",
      "['ab', 'cde', 'erty']\n"
     ]
    },
    {
     "data": {
      "text/plain": [
       "[2, 3, 4]"
      ]
     },
     "execution_count": 36,
     "metadata": {},
     "output_type": "execute_result"
    }
   ],
   "source": [
    "def word_len(word_list):\n",
    "    return list(map(lambda x: len(x),word_list))\n",
    "\n",
    "n1=int(input (\"List length: \"))\n",
    "l=[]\n",
    "for x in range(n1):\n",
    "    b=str(input(\"Type in words: \"))\n",
    "    l.append(b)\n",
    "print(l)\n",
    "word_len(l)"
   ]
  },
  {
   "cell_type": "markdown",
   "metadata": {},
   "source": [
    "## 2.2 Write a Python function which takes a character (i.e. a string of length 1) and returns True if it is a vowel, False otherwise."
   ]
  },
  {
   "cell_type": "code",
   "execution_count": 32,
   "metadata": {},
   "outputs": [
    {
     "name": "stdout",
     "output_type": "stream",
     "text": [
      "enter a character: U\n"
     ]
    },
    {
     "data": {
      "text/plain": [
       "True"
      ]
     },
     "execution_count": 32,
     "metadata": {},
     "output_type": "execute_result"
    }
   ],
   "source": [
    "def is_vowel(x):\n",
    "    l=[\"a\",\"e\",\"i\",\"o\",\"u\"]\n",
    "    if x in l :\n",
    "        return True\n",
    "    else:\n",
    "        return False\n",
    "ent= str(input(\"enter a character: \")).lower()\n",
    "is_vowel(ent)"
   ]
  },
  {
   "cell_type": "code",
   "execution_count": null,
   "metadata": {},
   "outputs": [],
   "source": []
  }
 ],
 "metadata": {
  "kernelspec": {
   "display_name": "Python 3",
   "language": "python",
   "name": "python3"
  },
  "language_info": {
   "codemirror_mode": {
    "name": "ipython",
    "version": 3
   },
   "file_extension": ".py",
   "mimetype": "text/x-python",
   "name": "python",
   "nbconvert_exporter": "python",
   "pygments_lexer": "ipython3",
   "version": "3.7.7"
  }
 },
 "nbformat": 4,
 "nbformat_minor": 4
}
