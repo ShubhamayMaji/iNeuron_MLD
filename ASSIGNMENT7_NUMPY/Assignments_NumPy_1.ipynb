{
 "cells": [
  {
   "cell_type": "markdown",
   "metadata": {},
   "source": [
    "## Write a function so that the columns of the output matrix are powers of the input vector.\n",
    "### The order of the powers is determined by the increasing boolean argument. Specifically, when increasing is False, the i-th output column is the input vector raised element-wise to the power of N - i - 1.\n",
    "#### HINT: Such a matrix with a geometric progression in each row is named for AlexandreTheophile Vandermonde."
   ]
  },
  {
   "cell_type": "code",
   "execution_count": 26,
   "metadata": {},
   "outputs": [],
   "source": [
    "import numpy as np \n",
    "def vander_func(lvector, n, increasing=False):\n",
    "    \n",
    "    if not increasing:\n",
    "        matrx = np.array([x**(n-1-i) for x in lvector for i in range(n)]).reshape(lvector.size,n)\n",
    "    elif increasing:\n",
    "        matrx = np.array([x**i for x in lvector for i in range(n)]).reshape(lvector.size,n)\n",
    "    \n",
    "    return matrx\n"
   ]
  },
  {
   "cell_type": "code",
   "execution_count": 28,
   "metadata": {},
   "outputs": [
    {
     "data": {
      "text/plain": [
       "array([[  16,    8,    4,    2,    1],\n",
       "       [  81,   27,    9,    3,    1],\n",
       "       [ 625,  125,   25,    5,    1],\n",
       "       [2401,  343,   49,    7,    1]])"
      ]
     },
     "execution_count": 28,
     "metadata": {},
     "output_type": "execute_result"
    }
   ],
   "source": [
    "vander_func(np.array([2,3,5,7]), 5, increasing=False)"
   ]
  },
  {
   "cell_type": "code",
   "execution_count": 29,
   "metadata": {},
   "outputs": [
    {
     "data": {
      "text/plain": [
       "array([[   1,    2,    4,    8,   16],\n",
       "       [   1,    3,    9,   27,   81],\n",
       "       [   1,    5,   25,  125,  625],\n",
       "       [   1,    7,   49,  343, 2401]])"
      ]
     },
     "execution_count": 29,
     "metadata": {},
     "output_type": "execute_result"
    }
   ],
   "source": [
    "vander_func(np.array([2,3,5,7]), 5, increasing=True)"
   ]
  },
  {
   "cell_type": "code",
   "execution_count": null,
   "metadata": {},
   "outputs": [],
   "source": []
  },
  {
   "cell_type": "markdown",
   "metadata": {},
   "source": [
    "## Question: Write a function to find moving average in an array over a window:\n",
    " ### Test it over [3, 5, 7, 2, 8, 10, 11, 65, 72, 81, 99, 100, 150] and window of 3."
   ]
  },
  {
   "cell_type": "code",
   "execution_count": 31,
   "metadata": {},
   "outputs": [
    {
     "name": "stdout",
     "output_type": "stream",
     "text": [
      "\n",
      "Input array is = [  3   5   7   2   8  10  11  65  72  81  99 100 150] \n",
      "\n",
      "Moving average of input array  with window size 3 is =\n",
      " [  5.           4.66666667   5.66666667   6.66666667   9.66666667\n",
      "  28.66666667  49.33333333  72.66666667  84.          93.33333333\n",
      " 116.33333333] \n",
      "\n",
      "Moving average array should have 11 values.\n",
      "\n",
      "Moving average array has 11 values.\n"
     ]
    }
   ],
   "source": [
    "def moving_average(input_array, k=3) :\n",
    "    input_array_shape = input_array.shape[0]\n",
    "    \n",
    "    out_array_moving_avg = np.zeros(input_array_shape - k + 1)\n",
    "    \n",
    "    for i in range(k, input_array_shape + 1):\n",
    "        out_array_moving_avg[i-k] = input_array[i-k:i].mean()\n",
    "    \n",
    "    return out_array_moving_avg   \n",
    "\n",
    "\n",
    "a = np.array([3, 5, 7, 2, 8, 10, 11, 65, 72, 81, 99, 100, 150])\n",
    "win_size = 3\n",
    "moving_average_arr = moving_average(a, win_size)\n",
    "\n",
    "print(\"\\nInput array is =\", a, \"\\n\")\n",
    "print(\"Moving average of input array  with window size\", win_size, \"is =\\n\", moving_average_arr, \"\\n\")\n",
    "print(\"Moving average array should have\", a.shape[0] - win_size + 1, \"values.\\n\")\n",
    "print(\"Moving average array has\", moving_average_arr.shape[0], \"values.\")"
   ]
  },
  {
   "cell_type": "code",
   "execution_count": null,
   "metadata": {},
   "outputs": [],
   "source": []
  }
 ],
 "metadata": {
  "kernelspec": {
   "display_name": "Python 3",
   "language": "python",
   "name": "python3"
  },
  "language_info": {
   "codemirror_mode": {
    "name": "ipython",
    "version": 3
   },
   "file_extension": ".py",
   "mimetype": "text/x-python",
   "name": "python",
   "nbconvert_exporter": "python",
   "pygments_lexer": "ipython3",
   "version": "3.7.7"
  },
  "toc": {
   "base_numbering": 1,
   "nav_menu": {},
   "number_sections": true,
   "sideBar": true,
   "skip_h1_title": false,
   "title_cell": "Table of Contents",
   "title_sidebar": "Contents",
   "toc_cell": false,
   "toc_position": {},
   "toc_section_display": true,
   "toc_window_display": false
  }
 },
 "nbformat": 4,
 "nbformat_minor": 4
}
